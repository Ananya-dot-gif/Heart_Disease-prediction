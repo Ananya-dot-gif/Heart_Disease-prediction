{
 "cells": [
  {
   "cell_type": "code",
   "execution_count": 11,
   "id": "3eb444ad-8aa9-4e18-8cd4-82ae6affdb8f",
   "metadata": {},
   "outputs": [],
   "source": [
    "\n",
    "# Project Title: Heart Disease Detection using Classification Algorithms\n",
    "# Improved Model Training for Higher Accuracy\n",
    "\n",
    "# Step 1: Import libraries\n",
    "import pandas as pd\n",
    "import pickle\n",
    "import json\n",
    "from sklearn.model_selection import train_test_split\n",
    "from sklearn.preprocessing import StandardScaler\n",
    "from sklearn.tree import DecisionTreeClassifier\n",
    "from sklearn.ensemble import RandomForestClassifier\n",
    "from sklearn.linear_model import LogisticRegression\n",
    "from sklearn.svm import SVC\n",
    "from sklearn.metrics import accuracy_score, classification_report"
   ]
  },
  {
   "cell_type": "code",
   "execution_count": 2,
   "id": "0e1298b3-c818-4138-bde7-bd3d8866fe60",
   "metadata": {},
   "outputs": [
    {
     "name": "stdout",
     "output_type": "stream",
     "text": [
      "Dataset Preview:\n",
      "   age  sex  chest_pain_type  resting_blood_pressure  cholesterol  \\\n",
      "0   58    1                1                     134          246   \n",
      "1   52    0                2                     112          245   \n",
      "2   59    0                2                     126          196   \n",
      "3   67    1                1                     165          201   \n",
      "4   51    1                0                     146          174   \n",
      "\n",
      "   fasting_blood_sugar  resting_ecg  max_heart_rate  exercise_induced_angina  \\\n",
      "0                    0            0             155                        0   \n",
      "1                    0            0             143                        1   \n",
      "2                    0            0             162                        1   \n",
      "3                    0            0             180                        0   \n",
      "4                    1            1             133                        1   \n",
      "\n",
      "   st_depression  st_slope  num_major_vessels  thalassemia  heart_disease  \n",
      "0            0.4         1                  1            2              1  \n",
      "1            0.1         0                  0            3              1  \n",
      "2            1.1         1                  0            1              1  \n",
      "3            0.4         2                  0            2              0  \n",
      "4            0.9         1                  1            2              1  \n"
     ]
    }
   ],
   "source": [
    "# Step 2: Load dataset\n",
    "\n",
    "data = pd.read_csv(\"D:\\MUFG\\heart_disease_dataset Capstone project 2.csv\")\n",
    "# Display the first few rows of the dataset\n",
    "print(\"Dataset Preview:\")\n",
    "print(data.head())\n",
    "\n",
    "# Separate features and target variable\n",
    "X = data.drop(\"heart_disease\", axis=1)\n",
    "y = data[\"heart_disease\"]"
   ]
  },
  {
   "cell_type": "code",
   "execution_count": 3,
   "id": "11ca57de-8693-45df-a22e-b6fe72973ab7",
   "metadata": {},
   "outputs": [
    {
     "data": {
      "text/plain": [
       "age                        0\n",
       "sex                        0\n",
       "chest_pain_type            0\n",
       "resting_blood_pressure     0\n",
       "cholesterol                0\n",
       "fasting_blood_sugar        0\n",
       "resting_ecg                0\n",
       "max_heart_rate             0\n",
       "exercise_induced_angina    0\n",
       "st_depression              0\n",
       "st_slope                   0\n",
       "num_major_vessels          0\n",
       "thalassemia                0\n",
       "heart_disease              0\n",
       "dtype: int64"
      ]
     },
     "execution_count": 3,
     "metadata": {},
     "output_type": "execute_result"
    }
   ],
   "source": [
    "data.isnull().sum()"
   ]
  },
  {
   "cell_type": "code",
   "execution_count": 4,
   "id": "f74819b4-0811-43a3-b4ef-a694700f82b9",
   "metadata": {},
   "outputs": [],
   "source": [
    "# Step 3: Split data into training and testing sets (80/20)\n",
    "\n",
    "X_train, X_test, y_train, y_test = train_test_split(\n",
    "    X, y, test_size=0.2, random_state=42, stratify=y\n",
    ")\n"
   ]
  },
  {
   "cell_type": "code",
   "execution_count": 5,
   "id": "a6d0dfdf-a8bd-4d5a-a6b6-5b63b7077082",
   "metadata": {},
   "outputs": [],
   "source": [
    "# Step 4: Feature Scaling\n",
    "# Scaling helps models like Logistic Regression and SVM perform better\n",
    "scaler = StandardScaler()\n",
    "X_train = scaler.fit_transform(X_train)\n",
    "X_test = scaler.transform(X_test)\n"
   ]
  },
  {
   "cell_type": "code",
   "execution_count": 6,
   "id": "a3822a94-764a-4e62-9c90-9ffec040021d",
   "metadata": {},
   "outputs": [],
   "source": [
    "# Step 5: Initialize models with tuned hyperparameters\n",
    "models = {\n",
    "    \"Decision Tree\": DecisionTreeClassifier(\n",
    "        criterion=\"entropy\", max_depth=6, min_samples_split=4, random_state=42\n",
    "    ),\n",
    "    \"Random Forest\": RandomForestClassifier(\n",
    "        n_estimators=200, max_depth=8, min_samples_split=3, random_state=42\n",
    "    ),\n",
    "    \"Logistic Regression\": LogisticRegression(\n",
    "        C=1.5, solver=\"liblinear\", max_iter=2000, random_state=42\n",
    "    ),\n",
    "    \"SVM\": SVC(\n",
    "        kernel=\"rbf\", C=3, gamma=0.1, probability=True, random_state=42\n",
    "    )\n",
    "}"
   ]
  },
  {
   "cell_type": "code",
   "execution_count": 7,
   "id": "b0fa8f1b-4a1e-42fe-a4ff-4f278f2e1ce2",
   "metadata": {},
   "outputs": [
    {
     "name": "stdout",
     "output_type": "stream",
     "text": [
      "\n",
      "Model Performance After Optimization:\n",
      "\n",
      "-------------------------------------------------------------\n",
      "Decision Tree Accuracy: 0.5875\n",
      "              precision    recall  f1-score   support\n",
      "\n",
      "           0       0.58      0.31      0.40        36\n",
      "           1       0.59      0.82      0.69        44\n",
      "\n",
      "    accuracy                           0.59        80\n",
      "   macro avg       0.58      0.56      0.54        80\n",
      "weighted avg       0.59      0.59      0.56        80\n",
      "\n",
      "-------------------------------------------------------------\n",
      "Random Forest Accuracy: 0.6625\n",
      "              precision    recall  f1-score   support\n",
      "\n",
      "           0       0.65      0.56      0.60        36\n",
      "           1       0.67      0.75      0.71        44\n",
      "\n",
      "    accuracy                           0.66        80\n",
      "   macro avg       0.66      0.65      0.65        80\n",
      "weighted avg       0.66      0.66      0.66        80\n",
      "\n",
      "-------------------------------------------------------------\n",
      "Logistic Regression Accuracy: 0.6750\n",
      "              precision    recall  f1-score   support\n",
      "\n",
      "           0       0.65      0.61      0.63        36\n",
      "           1       0.70      0.73      0.71        44\n",
      "\n",
      "    accuracy                           0.68        80\n",
      "   macro avg       0.67      0.67      0.67        80\n",
      "weighted avg       0.67      0.68      0.67        80\n",
      "\n",
      "-------------------------------------------------------------\n",
      "SVM Accuracy: 0.6750\n",
      "              precision    recall  f1-score   support\n",
      "\n",
      "           0       0.62      0.69      0.66        36\n",
      "           1       0.72      0.66      0.69        44\n",
      "\n",
      "    accuracy                           0.68        80\n",
      "   macro avg       0.68      0.68      0.67        80\n",
      "weighted avg       0.68      0.68      0.68        80\n",
      "\n"
     ]
    }
   ],
   "source": [
    "# Step 6: Train and evaluate each model\n",
    "print(\"\\nModel Performance After Optimization:\\n\")\n",
    "results = {}\n",
    "\n",
    "for name, model in models.items():\n",
    "    model.fit(X_train, y_train)\n",
    "    y_pred = model.predict(X_test)\n",
    "    \n",
    "    acc = accuracy_score(y_test, y_pred)\n",
    "    results[name] = acc\n",
    "    \n",
    "    print(\"-------------------------------------------------------------\")\n",
    "    print(f\"{name} Accuracy: {acc:.4f}\")\n",
    "    print(classification_report(y_test, y_pred))"
   ]
  },
  {
   "cell_type": "code",
   "execution_count": 8,
   "id": "26d316c3-475d-405d-9d78-b593fb8ff72f",
   "metadata": {},
   "outputs": [
    {
     "name": "stdout",
     "output_type": "stream",
     "text": [
      "\n",
      "-------------------------------------------------------------\n",
      "Model Comparison Summary (Improved Accuracies):\n",
      "Decision Tree: 0.5875\n",
      "Random Forest: 0.6625\n",
      "Logistic Regression: 0.6750\n",
      "SVM: 0.6750\n"
     ]
    }
   ],
   "source": [
    "# Step 7: Compare all accuracies\n",
    "print(\"\\n-------------------------------------------------------------\")\n",
    "print(\"Model Comparison Summary (Improved Accuracies):\")\n",
    "for name, score in results.items():\n",
    "    print(f\"{name}: {score:.4f}\")"
   ]
  },
  {
   "cell_type": "code",
   "execution_count": 9,
   "id": "0bb9b050-53c3-4704-9aa5-1887001b7737",
   "metadata": {},
   "outputs": [
    {
     "name": "stdout",
     "output_type": "stream",
     "text": [
      "\n",
      "✅ Best Performing Model: Logistic Regression (0.6750 Accuracy)\n"
     ]
    }
   ],
   "source": [
    "# Step 8 (Optional): Find the best model\n",
    "best_model = max(results, key=results.get)\n",
    "print(f\"\\n✅ Best Performing Model: {best_model} ({results[best_model]:.4f} Accuracy)\")\n"
   ]
  },
  {
   "cell_type": "code",
   "execution_count": 12,
   "id": "03e974d7-6bb8-4c8d-a7dd-fe826dc0655b",
   "metadata": {},
   "outputs": [
    {
     "name": "stdout",
     "output_type": "stream",
     "text": [
      "Model, scaler, and feature columns saved.\n"
     ]
    }
   ],
   "source": [
    "# Step 9: Model saving\n",
    "with open(\"linear_regression_model.pkl\", \"wb\") as f:\n",
    "    pickle.dump(model, f)\n",
    "\n",
    "with open(\"scaler.pkl\", \"wb\") as f:\n",
    "    pickle.dump(scaler, f)\n",
    "\n",
    "with open(\"feature_columns.json\", \"w\") as f:\n",
    "    json.dump(X.columns.tolist(), f)\n",
    "\n",
    "print(\"Model, scaler, and feature columns saved.\")\n"
   ]
  },
  {
   "cell_type": "code",
   "execution_count": null,
   "id": "03484917-66b7-4384-921a-acff6f674a53",
   "metadata": {},
   "outputs": [],
   "source": []
  }
 ],
 "metadata": {
  "kernelspec": {
   "display_name": "Python 3 (ipykernel)",
   "language": "python",
   "name": "python3"
  },
  "language_info": {
   "codemirror_mode": {
    "name": "ipython",
    "version": 3
   },
   "file_extension": ".py",
   "mimetype": "text/x-python",
   "name": "python",
   "nbconvert_exporter": "python",
   "pygments_lexer": "ipython3",
   "version": "3.11.7"
  }
 },
 "nbformat": 4,
 "nbformat_minor": 5
}
